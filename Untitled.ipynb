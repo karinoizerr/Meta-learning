{
 "cells": [
  {
   "cell_type": "code",
   "execution_count": 1,
   "id": "01165654",
   "metadata": {},
   "outputs": [],
   "source": [
    "import pandas as pd\n",
    "\n",
    "\n",
    "TABLE_FILE_NAME = 'table.csv'\n",
    "COLUMNS = [\n",
    "    'количество дружественных агентов',\n",
    "    'количество вражеских агентов',\n",
    "    'координата x дружественных агентов',\n",
    "    'координата y дружественных агентов',\n",
    "    'координата x вражеских агентов',\n",
    "    'координата y вражеских агентов',\n",
    "    'наличие препятствия',\n",
    "    'координата x начала стены',\n",
    "    'координата y начала стены',\n",
    "    'координата x середины стены',\n",
    "    'координата y середины стены',\n",
    "    'координата x конца стены',\n",
    "    'координата y конца стены'\n",
    "]"
   ]
  },
  {
   "cell_type": "code",
   "execution_count": 2,
   "id": "5f4f8eff",
   "metadata": {},
   "outputs": [
    {
     "data": {
      "text/html": [
       "<div>\n",
       "<style scoped>\n",
       "    .dataframe tbody tr th:only-of-type {\n",
       "        vertical-align: middle;\n",
       "    }\n",
       "\n",
       "    .dataframe tbody tr th {\n",
       "        vertical-align: top;\n",
       "    }\n",
       "\n",
       "    .dataframe thead th {\n",
       "        text-align: right;\n",
       "    }\n",
       "</style>\n",
       "<table border=\"1\" class=\"dataframe\">\n",
       "  <thead>\n",
       "    <tr style=\"text-align: right;\">\n",
       "      <th></th>\n",
       "      <th>количество дружественных агентов</th>\n",
       "      <th>количество вражеских агентов</th>\n",
       "      <th>координата x дружественных агентов</th>\n",
       "      <th>координата y дружественных агентов</th>\n",
       "      <th>координата x вражеских агентов</th>\n",
       "      <th>координата y вражеских агентов</th>\n",
       "      <th>наличие препятствия</th>\n",
       "      <th>координата x начала стены</th>\n",
       "      <th>координата y начала стены</th>\n",
       "      <th>координата x середины стены</th>\n",
       "      <th>координата y середины стены</th>\n",
       "      <th>координата x конца стены</th>\n",
       "      <th>координата y конца стены</th>\n",
       "    </tr>\n",
       "  </thead>\n",
       "  <tbody>\n",
       "  </tbody>\n",
       "</table>\n",
       "</div>"
      ],
      "text/plain": [
       "Empty DataFrame\n",
       "Columns: [количество дружественных агентов, количество вражеских агентов, координата x дружественных агентов, координата y дружественных агентов, координата x вражеских агентов, координата y вражеских агентов, наличие препятствия, координата x начала стены, координата y начала стены, координата x середины стены, координата y середины стены, координата x конца стены, координата y конца стены]\n",
       "Index: []"
      ]
     },
     "execution_count": 2,
     "metadata": {},
     "output_type": "execute_result"
    }
   ],
   "source": [
    "table = pd.DataFrame(columns=COLUMNS)\n",
    "table"
   ]
  },
  {
   "cell_type": "code",
   "execution_count": 3,
   "id": "0603d59c",
   "metadata": {},
   "outputs": [],
   "source": [
    "table.to_csv(TABLE_FILE_NAME, index=False)"
   ]
  },
  {
   "cell_type": "code",
   "execution_count": 4,
   "id": "bbfb9a7b",
   "metadata": {},
   "outputs": [],
   "source": [
    "def add_new_row_to_csv(filename, n_friends, n_enemies, friends_coord, enemies_coord, wall_exists, wall_begins, wall_middle, wall_ends):\n",
    "    x_friends_coord, y_friends_coord = friends_coord\n",
    "    x_enemies_coord, y_enemies_coord = enemies_coord\n",
    "    x_wall_begins, y_wall_begins = wall_begins\n",
    "    x_wall_middle, y_wall_middle = wall_middle\n",
    "    x_wall_ends, y_wall_ends = wall_ends\n",
    "    new_row = {\n",
    "        'количество дружественных агентов': n_friends,\n",
    "        'количество вражеских агентов': n_enemies,\n",
    "        'координата x дружественных агентов': x_friends_coord,\n",
    "        'координата y дружественных агентов': y_friends_coord,\n",
    "        'координата x вражеских агентов': x_enemies_coord,\n",
    "        'координата y вражеских агентов': y_enemies_coord,\n",
    "        'наличие препятствия': wall_exists,\n",
    "        'координата x начала стены': x_wall_begins,\n",
    "        'координата y начала стены': y_wall_begins,\n",
    "        'координата x середины стены': x_wall_middle,\n",
    "        'координата y середины стены': y_wall_middle,\n",
    "        'координата x конца стены': x_wall_ends,\n",
    "        'координата y конца стены': y_wall_ends\n",
    "    }\n",
    "    print(new_row)\n",
    "    df = pd.read_csv(filename)\n",
    "    df = df.append(new_row, ignore_index=True)\n",
    "    df.to_csv(filename, index=False)"
   ]
  },
  {
   "cell_type": "code",
   "execution_count": 5,
   "id": "0bde036a",
   "metadata": {},
   "outputs": [
    {
     "name": "stdout",
     "output_type": "stream",
     "text": [
      "{'количество дружественных агентов': 2, 'количество вражеских агентов': 2, 'координата x дружественных агентов': 1, 'координата y дружественных агентов': 1, 'координата x вражеских агентов': 10, 'координата y вражеских агентов': 1, 'наличие препятствия': 1, 'координата x начала стены': 2, 'координата y начала стены': 2, 'координата x середины стены': 4, 'координата y середины стены': 2, 'координата x конца стены': 8, 'координата y конца стены': 2}\n"
     ]
    }
   ],
   "source": [
    "add_new_row_to_csv(TABLE_FILE_NAME, 2, 2, (1, 1), (10, 1), 1, (2, 2), (4, 2), (8, 2))"
   ]
  },
  {
   "cell_type": "code",
   "execution_count": 6,
   "id": "a098b2b2",
   "metadata": {},
   "outputs": [
    {
     "data": {
      "text/html": [
       "<div>\n",
       "<style scoped>\n",
       "    .dataframe tbody tr th:only-of-type {\n",
       "        vertical-align: middle;\n",
       "    }\n",
       "\n",
       "    .dataframe tbody tr th {\n",
       "        vertical-align: top;\n",
       "    }\n",
       "\n",
       "    .dataframe thead th {\n",
       "        text-align: right;\n",
       "    }\n",
       "</style>\n",
       "<table border=\"1\" class=\"dataframe\">\n",
       "  <thead>\n",
       "    <tr style=\"text-align: right;\">\n",
       "      <th></th>\n",
       "      <th>количество дружественных агентов</th>\n",
       "      <th>количество вражеских агентов</th>\n",
       "      <th>координата x дружественных агентов</th>\n",
       "      <th>координата y дружественных агентов</th>\n",
       "      <th>координата x вражеских агентов</th>\n",
       "      <th>координата y вражеских агентов</th>\n",
       "      <th>наличие препятствия</th>\n",
       "      <th>координата x начала стены</th>\n",
       "      <th>координата y начала стены</th>\n",
       "      <th>координата x середины стены</th>\n",
       "      <th>координата y середины стены</th>\n",
       "      <th>координата x конца стены</th>\n",
       "      <th>координата y конца стены</th>\n",
       "    </tr>\n",
       "  </thead>\n",
       "  <tbody>\n",
       "    <tr>\n",
       "      <th>0</th>\n",
       "      <td>2</td>\n",
       "      <td>2</td>\n",
       "      <td>1</td>\n",
       "      <td>1</td>\n",
       "      <td>10</td>\n",
       "      <td>1</td>\n",
       "      <td>1</td>\n",
       "      <td>2</td>\n",
       "      <td>2</td>\n",
       "      <td>4</td>\n",
       "      <td>2</td>\n",
       "      <td>8</td>\n",
       "      <td>2</td>\n",
       "    </tr>\n",
       "  </tbody>\n",
       "</table>\n",
       "</div>"
      ],
      "text/plain": [
       "   количество дружественных агентов  количество вражеских агентов  \\\n",
       "0                                 2                             2   \n",
       "\n",
       "   координата x дружественных агентов  координата y дружественных агентов  \\\n",
       "0                                   1                                   1   \n",
       "\n",
       "   координата x вражеских агентов  координата y вражеских агентов  \\\n",
       "0                              10                               1   \n",
       "\n",
       "   наличие препятствия  координата x начала стены  координата y начала стены  \\\n",
       "0                    1                          2                          2   \n",
       "\n",
       "   координата x середины стены  координата y середины стены  \\\n",
       "0                            4                            2   \n",
       "\n",
       "   координата x конца стены  координата y конца стены  \n",
       "0                         8                         2  "
      ]
     },
     "execution_count": 6,
     "metadata": {},
     "output_type": "execute_result"
    }
   ],
   "source": [
    "table = pd.read_csv(TABLE_FILE_NAME)\n",
    "table"
   ]
  },
  {
   "cell_type": "code",
   "execution_count": 7,
   "id": "928879ad",
   "metadata": {},
   "outputs": [
    {
     "data": {
      "text/html": [
       "<div>\n",
       "<style scoped>\n",
       "    .dataframe tbody tr th:only-of-type {\n",
       "        vertical-align: middle;\n",
       "    }\n",
       "\n",
       "    .dataframe tbody tr th {\n",
       "        vertical-align: top;\n",
       "    }\n",
       "\n",
       "    .dataframe thead th {\n",
       "        text-align: right;\n",
       "    }\n",
       "</style>\n",
       "<table border=\"1\" class=\"dataframe\">\n",
       "  <thead>\n",
       "    <tr style=\"text-align: right;\">\n",
       "      <th></th>\n",
       "      <th>количество дружественных агентов</th>\n",
       "      <th>количество вражеских агентов</th>\n",
       "      <th>координата x дружественных агентов</th>\n",
       "      <th>координата y дружественных агентов</th>\n",
       "      <th>координата x вражеских агентов</th>\n",
       "      <th>координата y вражеских агентов</th>\n",
       "      <th>наличие препятствия</th>\n",
       "      <th>координата x начала стены</th>\n",
       "      <th>координата y начала стены</th>\n",
       "      <th>координата x середины стены</th>\n",
       "      <th>координата y середины стены</th>\n",
       "      <th>координата x конца стены</th>\n",
       "      <th>координата y конца стены</th>\n",
       "    </tr>\n",
       "  </thead>\n",
       "  <tbody>\n",
       "    <tr>\n",
       "      <th>0</th>\n",
       "      <td>2</td>\n",
       "      <td>2</td>\n",
       "      <td>1</td>\n",
       "      <td>1</td>\n",
       "      <td>10</td>\n",
       "      <td>1</td>\n",
       "      <td>1</td>\n",
       "      <td>2</td>\n",
       "      <td>2</td>\n",
       "      <td>4</td>\n",
       "      <td>2</td>\n",
       "      <td>8</td>\n",
       "      <td>2</td>\n",
       "    </tr>\n",
       "  </tbody>\n",
       "</table>\n",
       "</div>"
      ],
      "text/plain": [
       "   количество дружественных агентов  количество вражеских агентов  \\\n",
       "0                                 2                             2   \n",
       "\n",
       "   координата x дружественных агентов  координата y дружественных агентов  \\\n",
       "0                                   1                                   1   \n",
       "\n",
       "   координата x вражеских агентов  координата y вражеских агентов  \\\n",
       "0                              10                               1   \n",
       "\n",
       "   наличие препятствия  координата x начала стены  координата y начала стены  \\\n",
       "0                    1                          2                          2   \n",
       "\n",
       "   координата x середины стены  координата y середины стены  \\\n",
       "0                            4                            2   \n",
       "\n",
       "   координата x конца стены  координата y конца стены  \n",
       "0                         8                         2  "
      ]
     },
     "execution_count": 7,
     "metadata": {},
     "output_type": "execute_result"
    }
   ],
   "source": [
    "table.to_csv(TABLE_FILE_NAME, index=False)\n",
    "table = pd.read_csv(TABLE_FILE_NAME)\n",
    "table"
   ]
  },
  {
   "cell_type": "code",
   "execution_count": null,
   "id": "c23f9a4b",
   "metadata": {},
   "outputs": [],
   "source": []
  }
 ],
 "metadata": {
  "kernelspec": {
   "display_name": "Python 3",
   "language": "python",
   "name": "python3"
  },
  "language_info": {
   "codemirror_mode": {
    "name": "ipython",
    "version": 3
   },
   "file_extension": ".py",
   "mimetype": "text/x-python",
   "name": "python",
   "nbconvert_exporter": "python",
   "pygments_lexer": "ipython3",
   "version": "3.8.3"
  }
 },
 "nbformat": 4,
 "nbformat_minor": 5
}
